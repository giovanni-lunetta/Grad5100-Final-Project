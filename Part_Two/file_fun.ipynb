{
 "cells": [
  {
   "cell_type": "markdown",
   "metadata": {},
   "source": [
    "# Part Two\n",
    "\n",
    "## 1. Function to Extract Alphabetic Code and Extension"
   ]
  },
  {
   "cell_type": "code",
   "execution_count": 3,
   "metadata": {},
   "outputs": [],
   "source": [
    "# Part 1: Function to Extract Alphabetic Code and Extension\n",
    "\n",
    "import os\n",
    "\n",
    "def extract_code_and_extension(code_str):\n",
    "    parts = code_str.split('_')\n",
    "    return f\"{parts[1]}.{parts[2]}\"\n",
    "\n",
    "# Path to the 'codes.txt' file\n",
    "codes_file_path = '/Users/giovanni-lunetta/uconn_masters/grad5100/Final_Project/Part_Two/codes.txt'\n",
    "\n",
    "# Create a directory for the expanded files if it doesn't exist\n",
    "expanded_dir_path = '/Users/giovanni-lunetta/uconn_masters/grad5100/Final_Project/Part_Two/expanded'\n",
    "os.makedirs(expanded_dir_path, exist_ok=True)"
   ]
  },
  {
   "cell_type": "markdown",
   "metadata": {},
   "source": [
    "## 2. Processing the codes.txt File and Creating New Files"
   ]
  },
  {
   "cell_type": "code",
   "execution_count": 4,
   "metadata": {},
   "outputs": [],
   "source": [
    "# Part 2: Processing the codes.txt File and Creating New Files\n",
    "\n",
    "# Function to process each line of the codes.txt file\n",
    "def process_codes_file(file_path, output_dir):\n",
    "    with open(file_path, 'r') as file:\n",
    "        for line in file:\n",
    "            # Remove newline character and extract code and extension\n",
    "            line = line.strip()\n",
    "            code, extension = extract_code_and_extension(line).split('.')\n",
    "            num_code = line.split('_')[0]\n",
    "\n",
    "            # Write the numeric code into the appropriate file\n",
    "            output_file_path = os.path.join(output_dir, f\"{code}.{extension}\")\n",
    "            with open(output_file_path, 'w') as output_file:\n",
    "                output_file.write(num_code)\n",
    "\n",
    "# Process the codes.txt file\n",
    "process_codes_file(codes_file_path, expanded_dir_path)"
   ]
  }
 ],
 "metadata": {
  "kernelspec": {
   "display_name": "Python 3",
   "language": "python",
   "name": "python3"
  },
  "language_info": {
   "codemirror_mode": {
    "name": "ipython",
    "version": 3
   },
   "file_extension": ".py",
   "mimetype": "text/x-python",
   "name": "python",
   "nbconvert_exporter": "python",
   "pygments_lexer": "ipython3",
   "version": "3.10.4"
  }
 },
 "nbformat": 4,
 "nbformat_minor": 2
}
