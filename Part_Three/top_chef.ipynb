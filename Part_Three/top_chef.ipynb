{
 "cells": [
  {
   "cell_type": "markdown",
   "metadata": {},
   "source": [
    "# Part 3"
   ]
  },
  {
   "cell_type": "code",
   "execution_count": 1,
   "metadata": {},
   "outputs": [],
   "source": [
    "import sqlalchemy as sqla\n",
    "import pymysql\n",
    "import pandas as pd\n",
    "import os"
   ]
  },
  {
   "cell_type": "code",
   "execution_count": 2,
   "metadata": {},
   "outputs": [],
   "source": [
    "username = \"user\"\n",
    "password = \"grad5100user\"\n",
    "awsresource = \"database-1.cwvjklnp4wu3.us-east-1.rds.amazonaws.com\"\n",
    "port = 3306"
   ]
  },
  {
   "cell_type": "code",
   "execution_count": 3,
   "metadata": {},
   "outputs": [],
   "source": [
    "dbname = \"topChef\"\n",
    "dburi = f\"mysql+pymysql://{username}:{password}@{awsresource}:{port}/{dbname}\"\n",
    "engine = sqla.create_engine(dburi)"
   ]
  },
  {
   "cell_type": "code",
   "execution_count": 4,
   "metadata": {},
   "outputs": [],
   "source": [
    "def run_sql(sql, engine):\n",
    "    with engine.connect() as conn:\n",
    "        return pd.read_sql(sql, conn)"
   ]
  },
  {
   "cell_type": "markdown",
   "metadata": {},
   "source": [
    "## Task 1: Filter `chefdetails` and `judges` Tables"
   ]
  },
  {
   "cell_type": "code",
   "execution_count": 5,
   "metadata": {},
   "outputs": [
    {
     "name": "stdout",
     "output_type": "stream",
     "text": [
      "   num            name        chef hometown  city state   age  \\\n",
      "0    0   Richard Blais  Richard B.     None  None  None  38.0   \n",
      "1    1   Mike Isabella     Mike I.     None  None  None  35.0   \n",
      "2    2  Antonia Lofaso  Antonia L.     None  None  None  34.0   \n",
      "3    3   Tiffany Derry  Tiffany D.     None  None  None  27.0   \n",
      "4    4      Carla Hall    Carla H.     None  None  None  46.0   \n",
      "\n",
      "                season  seasonNumber series  placement personOfColor  \\\n",
      "0  All Stars: New York             8     US          1          None   \n",
      "1  All Stars: New York             8     US          2          None   \n",
      "2  All Stars: New York             8     US          3          None   \n",
      "3  All Stars: New York             8     US          4           POC   \n",
      "4  All Stars: New York             8     US          5           POC   \n",
      "\n",
      "             occupation  gender  \n",
      "0                 Owner    Male  \n",
      "1  Executive Chef/Owner    Male  \n",
      "2        Executive Chef  Female  \n",
      "3        Executive Chef  Female  \n",
      "4            Chef/Owner  Female  \n",
      "   num               season  seasonNumber series  episode challengeType  \\\n",
      "0    0  All Stars: New York             8     US        1     Quickfire   \n",
      "1    1  All Stars: New York             8     US        1   Elimination   \n",
      "2    2  All Stars: New York             8     US        2     Quickfire   \n",
      "3    3  All Stars: New York             8     US        2   Elimination   \n",
      "4    4  All Stars: New York             8     US        3     Quickfire   \n",
      "\n",
      "  outcomeType        guestJudge competedOnTC                      otherShows  \n",
      "0        Team     Tom Colicchio         None                  Top Chef Judge  \n",
      "1  Individual  Anthony Bourdain         None  Parts Unknown; No Reservations  \n",
      "2  Individual         Joe Jonas         None                            None  \n",
      "3        Team         Katie Lee         None           Beat Bobby Flay Judge  \n",
      "4        Team       David Chang         None                            None  \n"
     ]
    }
   ],
   "source": [
    "# Load entire tables into DataFrames\n",
    "chefdetails_df = pd.read_sql(\"SELECT * FROM chefdetails\", engine)\n",
    "judges_df = pd.read_sql(\"SELECT * FROM judges\", engine)\n",
    "\n",
    "# Filter DataFrames\n",
    "chefdetails_filtered = chefdetails_df[~chefdetails_df['season'].str.contains('Masters') & (chefdetails_df['season'] != 'Canada 6')]\n",
    "judges_filtered = judges_df[~judges_df['season'].str.contains('Masters') & (judges_df['season'] != 'Canada 6')]\n",
    "\n",
    "print(chefdetails_filtered.head())\n",
    "print(judges_filtered.head())"
   ]
  },
  {
   "cell_type": "markdown",
   "metadata": {},
   "source": [
    "## Task 2: Trim Tables to Include Only Relevant Columns"
   ]
  },
  {
   "cell_type": "code",
   "execution_count": 6,
   "metadata": {},
   "outputs": [
    {
     "name": "stdout",
     "output_type": "stream",
     "text": [
      "                season  seasonNumber            name  placement  gender\n",
      "0  All Stars: New York             8   Richard Blais          1    Male\n",
      "1  All Stars: New York             8   Mike Isabella          2    Male\n",
      "2  All Stars: New York             8  Antonia Lofaso          3  Female\n",
      "3  All Stars: New York             8   Tiffany Derry          4  Female\n",
      "4  All Stars: New York             8      Carla Hall          5  Female\n",
      "                season  seasonNumber  episode challengeType        guestJudge  \\\n",
      "0  All Stars: New York             8        1     Quickfire     Tom Colicchio   \n",
      "1  All Stars: New York             8        1   Elimination  Anthony Bourdain   \n",
      "2  All Stars: New York             8        2     Quickfire         Joe Jonas   \n",
      "3  All Stars: New York             8        2   Elimination         Katie Lee   \n",
      "4  All Stars: New York             8        3     Quickfire       David Chang   \n",
      "\n",
      "  competedOnTC  \n",
      "0         None  \n",
      "1         None  \n",
      "2         None  \n",
      "3         None  \n",
      "4         None  \n"
     ]
    }
   ],
   "source": [
    "# Select relevant columns\n",
    "chefdetails_trimmed = chefdetails_filtered[['season', 'seasonNumber', 'name', 'placement', 'gender']]\n",
    "judges_trimmed = judges_filtered[['season', 'seasonNumber', 'episode', 'challengeType', 'guestJudge', 'competedOnTC']]\n",
    "\n",
    "print(chefdetails_trimmed.head())\n",
    "print(judges_trimmed.head())"
   ]
  },
  {
   "cell_type": "markdown",
   "metadata": {},
   "source": [
    "## Task 3: Create a Table with `season` and `seasonNumber`"
   ]
  },
  {
   "cell_type": "code",
   "execution_count": 7,
   "metadata": {},
   "outputs": [
    {
     "name": "stdout",
     "output_type": "stream",
     "text": [
      "                  season  seasonNumber\n",
      "295        San Francisco             1\n",
      "190          Los Angeles             2\n",
      "229                Miami             3\n",
      "93               Chicago             4\n",
      "263             New York             5\n",
      "173            Las Vegas             6\n",
      "109                 D.C.             7\n",
      "0    All Stars: New York             8\n",
      "325                Texas             9\n",
      "307              Seattle            10\n",
      "244          New Orleans            11\n",
      "33                Boston            12\n",
      "49            California            13\n",
      "77            Charleston            14\n",
      "126             Colorado            15\n",
      "157             Kentucky            16\n",
      "18        All-Stars L.A.            17\n",
      "280             Portland            18\n",
      "142              Houston            19\n",
      "375      World All Stars            20\n"
     ]
    }
   ],
   "source": [
    "season_info_df = chefdetails_trimmed[['season', 'seasonNumber']].drop_duplicates().sort_values(by='seasonNumber')\n",
    "print(season_info_df)"
   ]
  },
  {
   "cell_type": "markdown",
   "metadata": {},
   "source": [
    "## Task 4: Answering the Questions\n",
    "\n",
    "### 4a. Count of Male and Female Chefs"
   ]
  },
  {
   "cell_type": "code",
   "execution_count": 8,
   "metadata": {},
   "outputs": [
    {
     "name": "stdout",
     "output_type": "stream",
     "text": [
      "   gender  count\n",
      "0    Male    170\n",
      "1  Female    152\n"
     ]
    }
   ],
   "source": [
    "gender_count = chefdetails_filtered['gender'].value_counts().reset_index()\n",
    "gender_count.columns = ['gender', 'count']\n",
    "print(gender_count)"
   ]
  },
  {
   "cell_type": "markdown",
   "metadata": {},
   "source": [
    "### 4b. Count of Male and Female Winners"
   ]
  },
  {
   "cell_type": "code",
   "execution_count": 9,
   "metadata": {},
   "outputs": [
    {
     "name": "stdout",
     "output_type": "stream",
     "text": [
      "   gender  count\n",
      "0    Male     14\n",
      "1  Female      6\n"
     ]
    }
   ],
   "source": [
    "winners_gender = chefdetails_filtered[chefdetails_filtered['placement'] == 1]['gender'].value_counts().reset_index()\n",
    "winners_gender.columns = ['gender', 'count']\n",
    "print(winners_gender)"
   ]
  },
  {
   "cell_type": "markdown",
   "metadata": {},
   "source": [
    "### 4c. Count in Top 3 Finalists"
   ]
  },
  {
   "cell_type": "code",
   "execution_count": 10,
   "metadata": {},
   "outputs": [
    {
     "name": "stdout",
     "output_type": "stream",
     "text": [
      "   gender  count\n",
      "0    Male     36\n",
      "1  Female     25\n"
     ]
    }
   ],
   "source": [
    "top3_gender = chefdetails_filtered[chefdetails_filtered['placement'].isin([1, 2, 3])]['gender'].value_counts().reset_index()\n",
    "top3_gender.columns = ['gender', 'count']\n",
    "print(top3_gender)"
   ]
  },
  {
   "cell_type": "code",
   "execution_count": 11,
   "metadata": {},
   "outputs": [
    {
     "data": {
      "text/plain": [
       "(0.24, 0.32786885245901637)"
      ]
     },
     "execution_count": 11,
     "metadata": {},
     "output_type": "execute_result"
    }
   ],
   "source": [
    "# Calculating the proportions\n",
    "female_winners = 6\n",
    "female_top3 = 25\n",
    "\n",
    "male_winners = 14\n",
    "male_top3 = 36\n",
    "\n",
    "# Proportion of female winners among top 3 finalists\n",
    "proportion_female_winners = female_winners / female_top3\n",
    "\n",
    "# Overall proportion of winners among top 3 finalists\n",
    "total_winners = male_winners + female_winners\n",
    "total_top3 = male_top3 + female_top3\n",
    "overall_proportion_winners = total_winners / total_top3\n",
    "\n",
    "proportion_female_winners, overall_proportion_winners"
   ]
  },
  {
   "cell_type": "markdown",
   "metadata": {},
   "source": [
    "The proportion of female winners among the top 3 finalists is approximately 24%, while the overall proportion of winners (both male and female) among the top 3 finalists is about 32.8%.\n",
    "\n",
    "This suggests that female contestants who make it to the top 3 are less likely to win compared to the overall likelihood of a top 3 contestant winning, regardless of gender. While 32.8% of the top 3 contestants win (as expected, since one out of three wins), only 24% of female contestants in the top 3 end up winning.\n",
    "\n",
    "However, interpreting this difference as significant would require a more detailed statistical analysis. Factors to consider include the sample size, the competitive dynamics of each season, and other potential biases. Without a deeper statistical test (like a chi-square test for independence), it's hard to definitively say whether this is due to chance or indicates a systemic pattern. But on the surface, the lower proportion of female winners among top finalists could be seen as indicative of a trend worth exploring further."
   ]
  },
  {
   "cell_type": "markdown",
   "metadata": {},
   "source": [
    "## Task 5: Table for First Place Winners and Guest Judge Status"
   ]
  },
  {
   "cell_type": "code",
   "execution_count": 12,
   "metadata": {},
   "outputs": [
    {
     "name": "stdout",
     "output_type": "stream",
     "text": [
      "                    name               season GuestJudge\n",
      "0          Richard Blais  All Stars: New York         No\n",
      "1           Melissa King       All-Stars L.A.         No\n",
      "2                Mei Lin               Boston         No\n",
      "3            Jeremy Ford           California         No\n",
      "4      Brooke Williamson           Charleston         No\n",
      "5        Stephanie Izard              Chicago         No\n",
      "6           Kevin Sbraga                 D.C.         No\n",
      "7           Joseph Flamm             Colorado         No\n",
      "8             Kah-wai Lo              Houston         No\n",
      "9   Kelsey Barnard Clark             Kentucky         No\n",
      "10     Michael Voltaggio            Las Vegas         No\n",
      "11             Ilan Hall          Los Angeles         No\n",
      "12            Hung Huynh                Miami         No\n",
      "13         Nicholas Elmi          New Orleans         No\n",
      "14       Hosea Rosenberg             New York         No\n",
      "15           Gabe Erales             Portland         No\n",
      "16       Harold Dieterle        San Francisco         No\n",
      "17          Kristen Kish              Seattle         No\n",
      "18              Paul Qui                Texas         No\n",
      "19            Kah-wai Lo      World All Stars         No\n"
     ]
    }
   ],
   "source": [
    "# Filter for first place winners\n",
    "winners = chefdetails_filtered[chefdetails_filtered['placement'] == 1]\n",
    "\n",
    "# Merge with judges_filtered to check for guest judge status\n",
    "winners_guest_judge = pd.merge(winners, judges_filtered, how='left', left_on=['name', 'seasonNumber'], right_on=['guestJudge', 'seasonNumber'])\n",
    "\n",
    "# Determine if each winner was a guest judge\n",
    "winners_guest_judge['GuestJudge'] = winners_guest_judge['guestJudge'].notna().replace({True: 'Yes', False: 'No'})\n",
    "\n",
    "# Select and rename relevant columns for the final output\n",
    "winners_guest_judge_final = winners_guest_judge[['name', 'season_x', 'GuestJudge']].rename(columns={'season_x': 'season'})\n",
    "\n",
    "print(winners_guest_judge_final)"
   ]
  },
  {
   "cell_type": "markdown",
   "metadata": {},
   "source": [
    "## Task 6: Non-Winning Contestants Who Were Guest Judges"
   ]
  },
  {
   "cell_type": "code",
   "execution_count": 13,
   "metadata": {},
   "outputs": [
    {
     "name": "stdout",
     "output_type": "stream",
     "text": [
      "                  name\n",
      "0        Mike Isabella\n",
      "2       Antonia Lofaso\n",
      "4        Tiffany Derry\n",
      "8           Dale Talde\n",
      "10    Spike Mendelsohn\n",
      "12    Stephen Asprinio\n",
      "14     Bryan Voltaggio\n",
      "22     Gregory Gourdet\n",
      "24     Karen Akunowicz\n",
      "26       Lee Anne Wong\n",
      "29         Nini Nguyen\n",
      "31        Melissa King\n",
      "34        Amar Santana\n",
      "36      Kwame Onwuachi\n",
      "40      Sheldon Simeon\n",
      "42          Sam Talbot\n",
      "46       Richard Blais\n",
      "53   Adrienne Cheatham\n",
      "54        Carrie Baird\n",
      "55  Josie Smith-Malave\n",
      "57        Nina Compton\n",
      "58      Stefan Richter\n",
      "60        Dawn Burrell\n",
      "64      Shota Nakajima\n",
      "65      Miguel Morales\n",
      "66   Brooke Williamson\n",
      "74          Edward Lee\n",
      "76    Nyesha Arrington\n"
     ]
    }
   ],
   "source": [
    "# Filter for contestants who did not win first place\n",
    "non_winners = chefdetails_filtered[chefdetails_filtered['placement'] != 1]\n",
    "\n",
    "# Merge non-winners with the judges dataset to find those who served as guest judges\n",
    "non_winners_guest_judges = pd.merge(non_winners, judges_filtered, how='inner', left_on='name', right_on='guestJudge')\n",
    "\n",
    "# From the merged dataset, select only the 'name' column and remove any duplicates\n",
    "non_winners_guest_judges_unique = non_winners_guest_judges[['name']].drop_duplicates()\n",
    "\n",
    "print(non_winners_guest_judges_unique)"
   ]
  }
 ],
 "metadata": {
  "kernelspec": {
   "display_name": "Python 3",
   "language": "python",
   "name": "python3"
  },
  "language_info": {
   "codemirror_mode": {
    "name": "ipython",
    "version": 3
   },
   "file_extension": ".py",
   "mimetype": "text/x-python",
   "name": "python",
   "nbconvert_exporter": "python",
   "pygments_lexer": "ipython3",
   "version": "3.10.4"
  }
 },
 "nbformat": 4,
 "nbformat_minor": 2
}
