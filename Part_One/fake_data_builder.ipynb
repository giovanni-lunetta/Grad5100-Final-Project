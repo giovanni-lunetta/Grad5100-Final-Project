{
 "cells": [
  {
   "cell_type": "markdown",
   "metadata": {},
   "source": [
    "# Part 1"
   ]
  },
  {
   "cell_type": "markdown",
   "metadata": {},
   "source": [
    "## 1. Create a dataframe or tibble representing this dataset that has the desired properties."
   ]
  },
  {
   "cell_type": "code",
   "execution_count": 1,
   "metadata": {},
   "outputs": [],
   "source": [
    "import pandas as pd\n",
    "import numpy as np\n",
    "from scipy.stats import norm\n",
    "import matplotlib.pyplot as plt\n",
    "\n",
    "# Set the seed for reproducibility\n",
    "np.random.seed(0)\n",
    "\n",
    "# Number of samples\n",
    "n_samples = 800"
   ]
  },
  {
   "cell_type": "code",
   "execution_count": 2,
   "metadata": {},
   "outputs": [],
   "source": [
    "# Creating the ID feature\n",
    "ids = [f'ID{str(i).zfill(3)}' for i in range(n_samples)]"
   ]
  },
  {
   "cell_type": "code",
   "execution_count": 3,
   "metadata": {},
   "outputs": [],
   "source": [
    "# Creating the Group feature\n",
    "groups = np.random.choice(['A', 'B', 'C'], size=n_samples)"
   ]
  },
  {
   "cell_type": "code",
   "execution_count": 4,
   "metadata": {},
   "outputs": [],
   "source": [
    "# Creating the Feature 1\n",
    "feature_1_mean = 2500\n",
    "feature_1_std = 300\n",
    "\n",
    "feature_1 = np.random.normal(loc=feature_1_mean, scale=feature_1_std, size=n_samples)"
   ]
  },
  {
   "cell_type": "code",
   "execution_count": 5,
   "metadata": {},
   "outputs": [],
   "source": [
    "# Creating Feature_2\n",
    "feature_2_mean = 400\n",
    "feature_2_std = 15\n",
    "feature_2 = np.random.normal(loc=feature_2_mean, scale=feature_2_std, size=n_samples)"
   ]
  },
  {
   "cell_type": "code",
   "execution_count": 6,
   "metadata": {},
   "outputs": [],
   "source": [
    "# Creating Feature_3 based on the Group\n",
    "feature_3 = np.zeros(n_samples)\n",
    "feature_3_std = 12\n",
    "\n",
    "# Applying the formula for Feature_3 based on the Group\n",
    "for i in range(n_samples):\n",
    "    if groups[i] == 'A':\n",
    "        feature_3[i] = 3 * feature_1[i] - 5 * feature_2[i]\n",
    "    elif groups[i] == 'B':\n",
    "        feature_3[i] = 2 * feature_1[i]\n",
    "    elif groups[i] == 'C':\n",
    "        feature_3[i] = -feature_1[i] + feature_2[i]\n",
    "\n",
    "# Adding normally distributed noise to Feature_3\n",
    "feature_3 += np.random.normal(loc=0, scale=feature_3_std, size=n_samples)"
   ]
  },
  {
   "cell_type": "code",
   "execution_count": 7,
   "metadata": {},
   "outputs": [
    {
     "data": {
      "text/html": [
       "<div>\n",
       "<style scoped>\n",
       "    .dataframe tbody tr th:only-of-type {\n",
       "        vertical-align: middle;\n",
       "    }\n",
       "\n",
       "    .dataframe tbody tr th {\n",
       "        vertical-align: top;\n",
       "    }\n",
       "\n",
       "    .dataframe thead th {\n",
       "        text-align: right;\n",
       "    }\n",
       "</style>\n",
       "<table border=\"1\" class=\"dataframe\">\n",
       "  <thead>\n",
       "    <tr style=\"text-align: right;\">\n",
       "      <th></th>\n",
       "      <th>ID</th>\n",
       "      <th>Group</th>\n",
       "      <th>Feature_1</th>\n",
       "      <th>Feature_2</th>\n",
       "      <th>Feature_3</th>\n",
       "    </tr>\n",
       "  </thead>\n",
       "  <tbody>\n",
       "    <tr>\n",
       "      <th>0</th>\n",
       "      <td>ID000</td>\n",
       "      <td>A</td>\n",
       "      <td>2231.898456</td>\n",
       "      <td>406.953096</td>\n",
       "      <td>4675.464934</td>\n",
       "    </tr>\n",
       "    <tr>\n",
       "      <th>1</th>\n",
       "      <td>ID001</td>\n",
       "      <td>B</td>\n",
       "      <td>2295.926912</td>\n",
       "      <td>403.577210</td>\n",
       "      <td>4598.450032</td>\n",
       "    </tr>\n",
       "    <tr>\n",
       "      <th>2</th>\n",
       "      <td>ID002</td>\n",
       "      <td>A</td>\n",
       "      <td>2558.261993</td>\n",
       "      <td>374.823337</td>\n",
       "      <td>5797.962027</td>\n",
       "    </tr>\n",
       "    <tr>\n",
       "      <th>3</th>\n",
       "      <td>ID003</td>\n",
       "      <td>B</td>\n",
       "      <td>2209.750781</td>\n",
       "      <td>388.574351</td>\n",
       "      <td>4421.316489</td>\n",
       "    </tr>\n",
       "    <tr>\n",
       "      <th>4</th>\n",
       "      <td>ID004</td>\n",
       "      <td>B</td>\n",
       "      <td>2820.477907</td>\n",
       "      <td>408.622785</td>\n",
       "      <td>5654.617634</td>\n",
       "    </tr>\n",
       "  </tbody>\n",
       "</table>\n",
       "</div>"
      ],
      "text/plain": [
       "      ID Group    Feature_1   Feature_2    Feature_3\n",
       "0  ID000     A  2231.898456  406.953096  4675.464934\n",
       "1  ID001     B  2295.926912  403.577210  4598.450032\n",
       "2  ID002     A  2558.261993  374.823337  5797.962027\n",
       "3  ID003     B  2209.750781  388.574351  4421.316489\n",
       "4  ID004     B  2820.477907  408.622785  5654.617634"
      ]
     },
     "execution_count": 7,
     "metadata": {},
     "output_type": "execute_result"
    }
   ],
   "source": [
    "# Creating the DataFrame\n",
    "data = pd.DataFrame({\n",
    "    'ID': ids,\n",
    "    'Group': groups,\n",
    "    'Feature_1': feature_1,\n",
    "    'Feature_2': feature_2,\n",
    "    'Feature_3': feature_3\n",
    "})\n",
    "\n",
    "data.head()"
   ]
  },
  {
   "cell_type": "markdown",
   "metadata": {},
   "source": [
    "### Confirming features were calculuated correctly"
   ]
  },
  {
   "cell_type": "code",
   "execution_count": 8,
   "metadata": {},
   "outputs": [
    {
     "data": {
      "text/plain": [
       "(800, 5)"
      ]
     },
     "execution_count": 8,
     "metadata": {},
     "output_type": "execute_result"
    }
   ],
   "source": [
    "# Confirming the number of samples in each group\n",
    "data.shape"
   ]
  },
  {
   "cell_type": "code",
   "execution_count": 9,
   "metadata": {},
   "outputs": [
    {
     "name": "stdout",
     "output_type": "stream",
     "text": [
      "Group A: 33.38% of the samples\n",
      "Group B: 33.50% of the samples\n",
      "Group C: 33.12% of the samples\n"
     ]
    }
   ],
   "source": [
    "# Confirm that rougly 1/3 of the samples are in each group\n",
    "group_counts = data['Group'].value_counts()\n",
    "\n",
    "# Calculating the percentage of samples in each group\n",
    "group_percentages = (group_counts / n_samples) * 100\n",
    "\n",
    "print(f\"Group A: {group_percentages['A']:.2f}% of the samples\")\n",
    "print(f\"Group B: {group_percentages['B']:.2f}% of the samples\")\n",
    "print(f\"Group C: {group_percentages['C']:.2f}% of the samples\")"
   ]
  },
  {
   "cell_type": "code",
   "execution_count": 10,
   "metadata": {},
   "outputs": [
    {
     "name": "stdout",
     "output_type": "stream",
     "text": [
      "The mean is: 2494.2558613774063\n",
      "The percentage of data in Feature_1 that falls between 2200 and 2800: 67.875\n"
     ]
    }
   ],
   "source": [
    "# Confirming the mean and standard deviation of Feature_1\n",
    "print(\"The mean is:\", data['Feature_1'].mean())\n",
    "\n",
    "# Calculating the percentage of data in Feature_1 that falls between 2200 and 2800\n",
    "within_range = data['Feature_1'].between(2200, 2800)\n",
    "percentage_within_range = within_range.mean() * 100\n",
    "\n",
    "print(\"The percentage of data in Feature_1 that falls between 2200 and 2800:\", percentage_within_range)"
   ]
  },
  {
   "cell_type": "code",
   "execution_count": 11,
   "metadata": {},
   "outputs": [
    {
     "name": "stdout",
     "output_type": "stream",
     "text": [
      "The mean is: 399.9600934736985\n",
      "The standard deviation is: 14.70541986031511\n"
     ]
    }
   ],
   "source": [
    "# Confirm that the mean and standard deviation of Feature_2 are correct\n",
    "print(\"The mean is:\", data['Feature_2'].mean())\n",
    "print(\"The standard deviation is:\", data['Feature_2'].std())"
   ]
  },
  {
   "cell_type": "code",
   "execution_count": 12,
   "metadata": {},
   "outputs": [
    {
     "name": "stdout",
     "output_type": "stream",
     "text": [
      "Mean Differences by Group: -0.09327194623984354\n",
      "Standard Deviation of Differences by Group: 11.784562412581069\n"
     ]
    }
   ],
   "source": [
    "# Confirming feature_3 is correct\n",
    "\n",
    "# Calculating the expected values of Feature_3 based on the group\n",
    "expected_feature_3 = np.where(data['Group'] == 'A', 3 * data['Feature_1'] - 5 * data['Feature_2'],\n",
    "                             np.where(data['Group'] == 'B', 2 * data['Feature_1'],\n",
    "                                      -(data['Feature_1']) + data['Feature_2']))\n",
    "\n",
    "# Calculating the differences\n",
    "differences = data['Feature_3'] - expected_feature_3\n",
    "\n",
    "# Grouping the differences by the Group feature\n",
    "grouped_differences = data.groupby('Group').apply(lambda x: x['Feature_3'] - (np.where(x['Group'] == 'A', \n",
    "                                                                                       3 * x['Feature_1'] - 5 * x['Feature_2'],\n",
    "                                                                                       np.where(x['Group'] == 'B', \n",
    "                                                                                                2 * x['Feature_1'],\n",
    "                                                                                                -(x['Feature_1']) + x['Feature_2']))))\n",
    "\n",
    "# Calculating mean and standard deviation of the differences for each group\n",
    "mean_differences = grouped_differences.mean()\n",
    "std_differences = grouped_differences.std()\n",
    "\n",
    "print(f\"Mean Differences by Group:\", mean_differences)\n",
    "print(f\"Standard Deviation of Differences by Group:\", std_differences)"
   ]
  },
  {
   "cell_type": "markdown",
   "metadata": {},
   "source": [
    "## 2. Answer the following questions:"
   ]
  },
  {
   "cell_type": "code",
   "execution_count": 13,
   "metadata": {},
   "outputs": [
    {
     "name": "stdout",
     "output_type": "stream",
     "text": [
      "Expected number of samples with Feature_1 > 3000: 38.0\n"
     ]
    }
   ],
   "source": [
    "# a. Theoretical number of samples with Feature_1 > 3000\n",
    "prob_greater_than_3000 = 1 - norm.cdf(3000, loc=feature_1_mean, scale=feature_1_std)\n",
    "expected_samples_greater_than_3000 = prob_greater_than_3000 * n_samples\n",
    "\n",
    "print(f\"Expected number of samples with Feature_1 > 3000: {expected_samples_greater_than_3000.round()}\")"
   ]
  },
  {
   "cell_type": "code",
   "execution_count": 14,
   "metadata": {},
   "outputs": [
    {
     "name": "stdout",
     "output_type": "stream",
     "text": [
      "Actual number of samples with Feature_1 > 3000: 34\n"
     ]
    }
   ],
   "source": [
    "# b. Actual number of samples with Feature_1 > 3000\n",
    "actual_samples_greater_than_3000 = (data['Feature_1'] > 3000).sum()\n",
    "\n",
    "print(f\"Actual number of samples with Feature_1 > 3000: {actual_samples_greater_than_3000}\")"
   ]
  },
  {
   "cell_type": "code",
   "execution_count": 15,
   "metadata": {},
   "outputs": [
    {
     "name": "stdout",
     "output_type": "stream",
     "text": [
      "\n",
      "Grouped Feature_3 statistics:\n",
      "               mean         std\n",
      "Group                         \n",
      "A      5469.938833  930.027170\n",
      "B      5004.077501  577.307357\n",
      "C     -2090.622241  290.193469\n"
     ]
    }
   ],
   "source": [
    "# c. Grouped mean and standard deviation of Feature_3\n",
    "grouped_feature_3_stats = data.groupby('Group')['Feature_3'].agg(['mean', 'std'])\n",
    "\n",
    "print(\"\\nGrouped Feature_3 statistics:\\n\", grouped_feature_3_stats)"
   ]
  },
  {
   "cell_type": "markdown",
   "metadata": {},
   "source": [
    "## 3. Make a scatterplot of Feature_3 vs Feature_1."
   ]
  },
  {
   "cell_type": "code",
   "execution_count": 16,
   "metadata": {},
   "outputs": [
    {
     "data": {
      "image/png": "[encoded data removed]",
      "text/plain": [
       "<Figure size 1000x600 with 1 Axes>"
      ]
     },
     "metadata": {},
     "output_type": "display_data"
    }
   ],
   "source": [
    "plt.figure(figsize=(10, 6))\n",
    "plt.scatter(data['Feature_1'], data['Feature_3'], alpha=0.6)\n",
    "plt.title(\"Scatterplot of Feature_3 vs Feature_1\")\n",
    "plt.xlabel(\"Feature_1\")\n",
    "plt.ylabel(\"Feature_3\")\n",
    "plt.grid(True)\n",
    "plt.show()"
   ]
  },
  {
   "cell_type": "markdown",
   "metadata": {},
   "source": [
    "# 4. Saving the DataFrame to a CSV file"
   ]
  },
  {
   "cell_type": "code",
   "execution_count": 17,
   "metadata": {},
   "outputs": [],
   "source": [
    "data.to_csv(\"/Users/giovanni-lunetta/uconn_masters/grad5100/Final_Project/Part_One/fake_data.csv\", index=False)"
   ]
  }
 ],
 "metadata": {
  "kernelspec": {
   "display_name": "Python 3",
   "language": "python",
   "name": "python3"
  },
  "language_info": {
   "codemirror_mode": {
    "name": "ipython",
    "version": 3
   },
   "file_extension": ".py",
   "mimetype": "text/x-python",
   "name": "python",
   "nbconvert_exporter": "python",
   "pygments_lexer": "ipython3",
   "version": "3.10.4"
  }
 },
 "nbformat": 4,
 "nbformat_minor": 2
}
